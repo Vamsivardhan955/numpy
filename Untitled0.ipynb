{
  "nbformat": 4,
  "nbformat_minor": 0,
  "metadata": {
    "colab": {
      "provenance": [],
      "authorship_tag": "ABX9TyPFfXxSb3gC2O/zSahxyU9X",
      "include_colab_link": true
    },
    "kernelspec": {
      "name": "python3",
      "display_name": "Python 3"
    },
    "language_info": {
      "name": "python"
    }
  },
  "cells": [
    {
      "cell_type": "markdown",
      "metadata": {
        "id": "view-in-github",
        "colab_type": "text"
      },
      "source": [
        "<a href=\"https://colab.research.google.com/github/Vamsivardhan955/EZTS/blob/main/Untitled0.ipynb\" target=\"_parent\"><img src=\"https://colab.research.google.com/assets/colab-badge.svg\" alt=\"Open In Colab\"/></a>"
      ]
    },
    {
      "cell_type": "code",
      "execution_count": 2,
      "metadata": {
        "id": "bfwJv_soxFkR"
      },
      "outputs": [],
      "source": [
        "import numpy as np"
      ]
    },
    {
      "cell_type": "code",
      "source": [
        "arr=np.arange(10)\n",
        "print(arr)"
      ],
      "metadata": {
        "colab": {
          "base_uri": "https://localhost:8080/"
        },
        "id": "--XYZP6UxTqf",
        "outputId": "543ec697-71fa-4ff3-9126-840b04bc1f8e"
      },
      "execution_count": null,
      "outputs": [
        {
          "output_type": "stream",
          "name": "stdout",
          "text": [
            "[0 1 2 3 4 5 6 7 8 9]\n"
          ]
        }
      ]
    },
    {
      "cell_type": "code",
      "source": [
        "arr_1d=np.array([1,2,3,4,5])\n",
        "print(arr_1d)"
      ],
      "metadata": {
        "colab": {
          "base_uri": "https://localhost:8080/"
        },
        "id": "JpEWiGuCylcT",
        "outputId": "97035e15-8d10-4768-b408-3b9e19d5796f"
      },
      "execution_count": null,
      "outputs": [
        {
          "output_type": "stream",
          "name": "stdout",
          "text": [
            "[1 2 3 4 5]\n"
          ]
        }
      ]
    },
    {
      "cell_type": "code",
      "source": [
        "arr_2d=np.array([[1,2,3],[4,5,6]])\n",
        "print(arr_2d)"
      ],
      "metadata": {
        "colab": {
          "base_uri": "https://localhost:8080/"
        },
        "id": "37alND2Gy7aT",
        "outputId": "4edc9a84-9cf0-42d3-c932-b24583d105f5"
      },
      "execution_count": null,
      "outputs": [
        {
          "output_type": "stream",
          "name": "stdout",
          "text": [
            "[[1 2 3]\n",
            " [4 5 6]]\n"
          ]
        }
      ]
    },
    {
      "cell_type": "code",
      "source": [
        "arr_float=np.array([1.1,2.2,3.3], dtype=np.float32)\n",
        "print(arr_float.dtype)"
      ],
      "metadata": {
        "colab": {
          "base_uri": "https://localhost:8080/"
        },
        "id": "R37LW_7c0MZN",
        "outputId": "616324a4-9914-4860-ab3a-19a43146b2f7"
      },
      "execution_count": null,
      "outputs": [
        {
          "output_type": "stream",
          "name": "stdout",
          "text": [
            "float32\n"
          ]
        }
      ]
    },
    {
      "cell_type": "code",
      "source": [
        "arr_float=np.array([[1,2,3],[2,3,4]],dtype=np.int32)\n",
        "print(arr_float.dtype)"
      ],
      "metadata": {
        "colab": {
          "base_uri": "https://localhost:8080/"
        },
        "id": "w8Ohr7on00b9",
        "outputId": "36911b39-c9cd-4451-b131-a0eb5d524b88"
      },
      "execution_count": null,
      "outputs": [
        {
          "output_type": "stream",
          "name": "stdout",
          "text": [
            "int32\n"
          ]
        }
      ]
    },
    {
      "cell_type": "code",
      "source": [
        "arr_1d=np.array([1,2,3,4,5])\n",
        "print(arr_1d.shape)"
      ],
      "metadata": {
        "colab": {
          "base_uri": "https://localhost:8080/"
        },
        "id": "L2ZwUQek1Gwq",
        "outputId": "66818505-267c-4db7-a161-a89e5ba06c18"
      },
      "execution_count": null,
      "outputs": [
        {
          "output_type": "stream",
          "name": "stdout",
          "text": [
            "(5,)\n"
          ]
        }
      ]
    },
    {
      "cell_type": "code",
      "source": [
        "arr_2d=np.array([[1,2,3],\n",
        "                  [4,5,6]])\n",
        "print(arr_2d.shape)"
      ],
      "metadata": {
        "colab": {
          "base_uri": "https://localhost:8080/"
        },
        "id": "x5G9DSCQ1UPc",
        "outputId": "8919fe44-6fb9-4338-c6bd-858dc64e1d69"
      },
      "execution_count": null,
      "outputs": [
        {
          "output_type": "stream",
          "name": "stdout",
          "text": [
            "(2, 3)\n"
          ]
        }
      ]
    },
    {
      "cell_type": "code",
      "source": [
        "arr_3d=np.zeros((2,3,4))\n",
        "print(arr_4d)\n",
        "print(arr_4d.shape)\n",
        "print(arr_4d.dtype)\n",
        "print(arr_4d.size)"
      ],
      "metadata": {
        "colab": {
          "base_uri": "https://localhost:8080/"
        },
        "id": "JJVwG0D72Ejk",
        "outputId": "8432a626-416d-48e8-a1ee-332deda78d7d"
      },
      "execution_count": null,
      "outputs": [
        {
          "output_type": "stream",
          "name": "stdout",
          "text": [
            "[[[0. 0. 0. 0.]\n",
            "  [0. 0. 0. 0.]\n",
            "  [0. 0. 0. 0.]]\n",
            "\n",
            " [[0. 0. 0. 0.]\n",
            "  [0. 0. 0. 0.]\n",
            "  [0. 0. 0. 0.]]]\n",
            "(2, 3, 4)\n",
            "float64\n",
            "24\n"
          ]
        }
      ]
    },
    {
      "cell_type": "code",
      "source": [
        "arr_4d=np.ones((2,3,4,5))\n",
        "print(arr_4d)\n",
        "print(arr_4d.ndim)\n",
        "print(arr_4d.dtype)\n",
        "print(arr_4d.size)"
      ],
      "metadata": {
        "colab": {
          "base_uri": "https://localhost:8080/"
        },
        "id": "PABwAj0J3qNU",
        "outputId": "95bb3924-e6b4-4071-d239-0152a64074bd"
      },
      "execution_count": null,
      "outputs": [
        {
          "output_type": "stream",
          "name": "stdout",
          "text": [
            "[[[[1. 1. 1. 1. 1.]\n",
            "   [1. 1. 1. 1. 1.]\n",
            "   [1. 1. 1. 1. 1.]\n",
            "   [1. 1. 1. 1. 1.]]\n",
            "\n",
            "  [[1. 1. 1. 1. 1.]\n",
            "   [1. 1. 1. 1. 1.]\n",
            "   [1. 1. 1. 1. 1.]\n",
            "   [1. 1. 1. 1. 1.]]\n",
            "\n",
            "  [[1. 1. 1. 1. 1.]\n",
            "   [1. 1. 1. 1. 1.]\n",
            "   [1. 1. 1. 1. 1.]\n",
            "   [1. 1. 1. 1. 1.]]]\n",
            "\n",
            "\n",
            " [[[1. 1. 1. 1. 1.]\n",
            "   [1. 1. 1. 1. 1.]\n",
            "   [1. 1. 1. 1. 1.]\n",
            "   [1. 1. 1. 1. 1.]]\n",
            "\n",
            "  [[1. 1. 1. 1. 1.]\n",
            "   [1. 1. 1. 1. 1.]\n",
            "   [1. 1. 1. 1. 1.]\n",
            "   [1. 1. 1. 1. 1.]]\n",
            "\n",
            "  [[1. 1. 1. 1. 1.]\n",
            "   [1. 1. 1. 1. 1.]\n",
            "   [1. 1. 1. 1. 1.]\n",
            "   [1. 1. 1. 1. 1.]]]]\n",
            "4\n",
            "float64\n",
            "120\n"
          ]
        }
      ]
    },
    {
      "cell_type": "code",
      "source": [
        "num=np.array([1,2,3])\n",
        "print(num.dtype)\n",
        "print(num.itemsize)\n"
      ],
      "metadata": {
        "colab": {
          "base_uri": "https://localhost:8080/"
        },
        "id": "ERD9bLac4WQW",
        "outputId": "6cb56c5e-f263-494a-c9a1-50abd156cbfb"
      },
      "execution_count": null,
      "outputs": [
        {
          "output_type": "stream",
          "name": "stdout",
          "text": [
            "int64\n",
            "8\n"
          ]
        }
      ]
    },
    {
      "cell_type": "code",
      "source": [
        "arr_1=np.array([1.1,2.2,3.3], dtype=np.float32)\n",
        "print(arr_1.itemsize*arr_1.size)\n",
        "arr_2=np.array([1.1,2.2,3.3], dtype=np.float64)\n",
        "print(arr_2.itemsize*arr_2.size)"
      ],
      "metadata": {
        "colab": {
          "base_uri": "https://localhost:8080/"
        },
        "id": "MnunRrps47OE",
        "outputId": "325e1a74-2f66-4e39-c88d-544c5e0b19db"
      },
      "execution_count": null,
      "outputs": [
        {
          "output_type": "stream",
          "name": "stdout",
          "text": [
            "12\n",
            "24\n"
          ]
        }
      ]
    },
    {
      "cell_type": "markdown",
      "source": [
        "precise difference between float32 and float64\n",
        "\n"
      ],
      "metadata": {
        "id": "R969u_bE8bOQ"
      }
    },
    {
      "cell_type": "code",
      "source": [
        "arr_1=np.arange(1000000,dtype=np.float32)\n",
        "arr_2=np.arange(1000000,dtype=np.float64)\n",
        "sum_1=np.sum(arr_1)\n",
        "sum_2=np.sum(arr_2)\n",
        "print(sum_1)\n",
        "print(sum_2)"
      ],
      "metadata": {
        "colab": {
          "base_uri": "https://localhost:8080/"
        },
        "id": "cCCFqRKW7kZj",
        "outputId": "6a6e7d71-28e0-4e4b-fba7-c66eeabb0004"
      },
      "execution_count": null,
      "outputs": [
        {
          "output_type": "stream",
          "name": "stdout",
          "text": [
            "499999800000.0\n",
            "499999500000.0\n"
          ]
        }
      ]
    },
    {
      "cell_type": "code",
      "source": [
        "zeros_array=np.zeros((2,3))\n",
        "print(zeros_array)"
      ],
      "metadata": {
        "colab": {
          "base_uri": "https://localhost:8080/"
        },
        "id": "BdYp8AqS-4Ao",
        "outputId": "894304ea-bdd9-407c-ec2f-3051ff42d8c5"
      },
      "execution_count": null,
      "outputs": [
        {
          "output_type": "stream",
          "name": "stdout",
          "text": [
            "[[0. 0. 0.]\n",
            " [0. 0. 0.]]\n"
          ]
        }
      ]
    },
    {
      "cell_type": "code",
      "source": [
        "ones_array=np.ones((2,3))\n",
        "print(ones_array)"
      ],
      "metadata": {
        "colab": {
          "base_uri": "https://localhost:8080/"
        },
        "id": "HLT_KmIW_S6E",
        "outputId": "fd7e4827-397a-4d83-8fb8-a56d07c7c387"
      },
      "execution_count": null,
      "outputs": [
        {
          "output_type": "stream",
          "name": "stdout",
          "text": [
            "[[1. 1. 1.]\n",
            " [1. 1. 1.]]\n"
          ]
        }
      ]
    },
    {
      "cell_type": "code",
      "source": [
        "full_array=np.full((2,3),5)\n",
        "print(full_array)"
      ],
      "metadata": {
        "colab": {
          "base_uri": "https://localhost:8080/"
        },
        "id": "NHHl2F-n_dU8",
        "outputId": "f8383235-efcd-4e94-d340-eb94422c80f4"
      },
      "execution_count": null,
      "outputs": [
        {
          "output_type": "stream",
          "name": "stdout",
          "text": [
            "[[5 5 5]\n",
            " [5 5 5]]\n"
          ]
        }
      ]
    },
    {
      "cell_type": "code",
      "source": [
        "arr1,arr2=[1,2,3],[2,3,4]\n",
        "arr_sum=np.add(arr1,arr2)\n",
        "arr_diff=np.subtract([1,2,3],[2,3,4])\n",
        "print(arr_sum)\n",
        "print(arr_diff)"
      ],
      "metadata": {
        "colab": {
          "base_uri": "https://localhost:8080/"
        },
        "id": "eeJbDB9XDNnO",
        "outputId": "163a48c0-66aa-4810-a8e3-0bf9fcfb69a7"
      },
      "execution_count": null,
      "outputs": [
        {
          "output_type": "stream",
          "name": "stdout",
          "text": [
            "[3 5 7]\n",
            "[-1 -1 -1]\n"
          ]
        }
      ]
    },
    {
      "cell_type": "code",
      "source": [
        "arr1=np.array([1,2,3,4])\n",
        "arr2=np.array([2,2,4,3])\n",
        "print(arr1==arr2)\n",
        "print(arr1!=arr2)\n",
        "print(arr1>arr2)\n",
        "print(arr1<arr2)\n",
        "print(arr1>=arr2)\n",
        "print(arr1<=arr2)"
      ],
      "metadata": {
        "colab": {
          "base_uri": "https://localhost:8080/"
        },
        "id": "aPPst7mFEk6h",
        "outputId": "4fdf1cac-35a1-4c38-823f-f0f7819439e2"
      },
      "execution_count": null,
      "outputs": [
        {
          "output_type": "stream",
          "name": "stdout",
          "text": [
            "[False  True False False]\n",
            "[ True False  True  True]\n",
            "[False False False  True]\n",
            "[ True False  True False]\n",
            "[False  True False  True]\n",
            "[ True  True  True False]\n"
          ]
        }
      ]
    },
    {
      "cell_type": "code",
      "source": [
        "arr=np.array([1,2,3,4,5])\n",
        "print(arr[0])\n",
        "print(arr[0:3])\n",
        "print(arr[-1])\n",
        "print(arr[0:4:2])\n",
        "print(arr[:3])\n",
        "print(arr[:2])\n",
        "print(arr[::-1])"
      ],
      "metadata": {
        "colab": {
          "base_uri": "https://localhost:8080/"
        },
        "id": "NH10nSlFFxdS",
        "outputId": "da146118-27b2-49e5-9f94-51b2ef218c57"
      },
      "execution_count": null,
      "outputs": [
        {
          "output_type": "stream",
          "name": "stdout",
          "text": [
            "1\n",
            "[1 2 3]\n",
            "5\n",
            "[1 3]\n",
            "[1 2 3]\n",
            "[1 2]\n",
            "[5 4 3 2 1]\n"
          ]
        }
      ]
    },
    {
      "cell_type": "code",
      "source": [
        "arr=np.array([[1,2,3],\n",
        "              [4,5,6],\n",
        "              [5,6,7]])\n",
        "print(arr[0,0])\n",
        "print(arr[1,2])"
      ],
      "metadata": {
        "colab": {
          "base_uri": "https://localhost:8080/"
        },
        "id": "GWdcxW-sHJME",
        "outputId": "ab3acbfc-66c6-441a-f73b-c53069146bb2"
      },
      "execution_count": null,
      "outputs": [
        {
          "output_type": "stream",
          "name": "stdout",
          "text": [
            "1\n",
            "6\n"
          ]
        }
      ]
    },
    {
      "cell_type": "code",
      "source": [],
      "metadata": {
        "id": "Eu7J0mr9LuGy"
      },
      "execution_count": null,
      "outputs": []
    },
    {
      "cell_type": "code",
      "source": [
        "arr=np.array([[1,2,3],\n",
        "              [4,5,6],\n",
        "              [5,6,7]])\n",
        "print(arr[0:2,1:3])\n",
        "arr[0:2,1:3]=[[10,20],[30,40]]\n",
        "print(arr)"
      ],
      "metadata": {
        "colab": {
          "base_uri": "https://localhost:8080/"
        },
        "id": "Kv3nM-2_LlfH",
        "outputId": "eee37fb0-63d1-4dd5-da00-51a43de7ccb8"
      },
      "execution_count": null,
      "outputs": [
        {
          "output_type": "stream",
          "name": "stdout",
          "text": [
            "[[2 3]\n",
            " [5 6]]\n",
            "[[ 1 10 20]\n",
            " [ 4 30 40]\n",
            " [ 5  6  7]]\n"
          ]
        }
      ]
    },
    {
      "cell_type": "code",
      "source": [
        "arr=np.array([[1,2,3],\n",
        "              [4,5,6],\n",
        "              [5,6,7]])\n",
        "print(arr[-1,-1])\n",
        "print(arr[-3,-1])\n"
      ],
      "metadata": {
        "colab": {
          "base_uri": "https://localhost:8080/"
        },
        "id": "sQKf13LdMbQN",
        "outputId": "59378482-2ad3-469f-cb51-719d72200eed"
      },
      "execution_count": null,
      "outputs": [
        {
          "output_type": "stream",
          "name": "stdout",
          "text": [
            "7\n",
            "3\n"
          ]
        }
      ]
    },
    {
      "cell_type": "code",
      "source": [
        "arr=np.array([[1,2,3],\n",
        "              [4,5,6],\n",
        "              [5,6,7]])\n",
        "print(arr[1:])\n",
        "print(arr[:,0:2:2])\n"
      ],
      "metadata": {
        "colab": {
          "base_uri": "https://localhost:8080/"
        },
        "id": "eax7tR7jNJYg",
        "outputId": "7cf81523-522e-447a-8ec0-7f0101c70422"
      },
      "execution_count": null,
      "outputs": [
        {
          "output_type": "stream",
          "name": "stdout",
          "text": [
            "[[4 5 6]\n",
            " [5 6 7]]\n",
            "[[1]\n",
            " [4]\n",
            " [5]]\n"
          ]
        }
      ]
    },
    {
      "cell_type": "code",
      "source": [
        "arr_1d=np.array([1,2,3,4,5])\n",
        "s=arr_1d[arr_1d>2]\n",
        "print(s)\n"
      ],
      "metadata": {
        "colab": {
          "base_uri": "https://localhost:8080/"
        },
        "id": "8XVwrrQYPWkQ",
        "outputId": "5b63e07d-efbe-4f8b-9af1-008562ae0f6c"
      },
      "execution_count": null,
      "outputs": [
        {
          "output_type": "stream",
          "name": "stdout",
          "text": [
            "[3 4 5]\n"
          ]
        }
      ]
    },
    {
      "cell_type": "markdown",
      "source": [
        "# **masking**"
      ],
      "metadata": {
        "id": "uwVImk9BcFEl"
      }
    },
    {
      "cell_type": "code",
      "source": [
        "arr_1d=np.array([1,2,3,4,5])\n",
        "mask_1d=arr_1d>2\n",
        "result=arr_1d[mask_1d]\n",
        "print(arr_1d)\n",
        "print(mask_1d)\n",
        "print(result)"
      ],
      "metadata": {
        "colab": {
          "base_uri": "https://localhost:8080/"
        },
        "id": "4sjhEIfpbfjz",
        "outputId": "8f438186-fea6-4b1a-e12d-a060dca134d8"
      },
      "execution_count": null,
      "outputs": [
        {
          "output_type": "stream",
          "name": "stdout",
          "text": [
            "[1 2 3 4 5]\n",
            "[False False  True  True  True]\n",
            "[3 4 5]\n"
          ]
        }
      ]
    },
    {
      "cell_type": "code",
      "source": [
        "arr_2d=np.array([[1,2,3],\n",
        "                 [4,5,6],\n",
        "                 [7,8,9]])\n",
        "mask_2d=arr_2d>4\n",
        "result=arr_2d[mask_2d]\n",
        "print(arr_2d)\n",
        "print(mask_2d)\n",
        "print(result)"
      ],
      "metadata": {
        "colab": {
          "base_uri": "https://localhost:8080/"
        },
        "id": "nuH28i0HcKf1",
        "outputId": "f221a8cf-4e99-4bbb-bd2a-2329804e9b2c"
      },
      "execution_count": null,
      "outputs": [
        {
          "output_type": "stream",
          "name": "stdout",
          "text": [
            "[[1 2 3]\n",
            " [4 5 6]\n",
            " [7 8 9]]\n",
            "[[False False False]\n",
            " [False  True  True]\n",
            " [ True  True  True]]\n",
            "[5 6 7 8 9]\n"
          ]
        }
      ]
    },
    {
      "cell_type": "code",
      "source": [
        "arr_2d=np.array([[1,2,3],\n",
        "        [4,5,6],\n",
        "           [6,7,8]])\n",
        "ps=arr_2d[arr_2d>3]\n",
        "print(ps)"
      ],
      "metadata": {
        "colab": {
          "base_uri": "https://localhost:8080/"
        },
        "id": "tgif9uQNP0vf",
        "outputId": "f6cd2042-010e-464f-9dc7-25a96a69dae0"
      },
      "execution_count": null,
      "outputs": [
        {
          "output_type": "stream",
          "name": "stdout",
          "text": [
            "[4 5 6 6 7 8]\n"
          ]
        }
      ]
    },
    {
      "cell_type": "markdown",
      "source": [
        "# fancyindexing"
      ],
      "metadata": {
        "id": "tmDQ3eHrRY-S"
      }
    },
    {
      "cell_type": "code",
      "source": [
        "arr_1d=np.array([1,2,3,4,5,6])\n",
        "indices=[0,3,4]\n",
        "print(arr_1d[indices])\n"
      ],
      "metadata": {
        "colab": {
          "base_uri": "https://localhost:8080/"
        },
        "id": "lePO9YYBRNiD",
        "outputId": "79834963-fa41-43c5-894c-0daf45d40f76"
      },
      "execution_count": null,
      "outputs": [
        {
          "output_type": "stream",
          "name": "stdout",
          "text": [
            "[1 4 5]\n"
          ]
        }
      ]
    },
    {
      "cell_type": "code",
      "source": [
        "arr_2d=np.array([[1,2,3],[4,5,6],[7,8,9]])\n",
        "indices=[0,2]\n",
        "print(arr_2d[indices])"
      ],
      "metadata": {
        "colab": {
          "base_uri": "https://localhost:8080/"
        },
        "id": "BbThmgZgR6aI",
        "outputId": "ce64450b-f369-4dec-b1a0-2fa5b5b9becd"
      },
      "execution_count": null,
      "outputs": [
        {
          "output_type": "stream",
          "name": "stdout",
          "text": [
            "[[1 2 3]\n",
            " [7 8 9]]\n"
          ]
        }
      ]
    },
    {
      "cell_type": "markdown",
      "source": [
        "# ***playing with arrays***"
      ],
      "metadata": {
        "id": "H5ADIcZjUtoi"
      }
    },
    {
      "cell_type": "markdown",
      "source": [
        "**transpose** **array**"
      ],
      "metadata": {
        "id": "dO7Ar4oPVB1d"
      }
    },
    {
      "cell_type": "code",
      "source": [
        "arr_2d=np.array([[1,2,3],\n",
        "                 [4,5,6],\n",
        "                 ])\n",
        "print(arr_2d.shape)\n",
        "transposed=arr_2d.transpose()\n",
        "print(transposed)\n",
        "print(transposed.shape)\n"
      ],
      "metadata": {
        "colab": {
          "base_uri": "https://localhost:8080/"
        },
        "id": "vCwAsbLGVEcr",
        "outputId": "5b58b515-c0cd-450b-b836-f10126511994"
      },
      "execution_count": null,
      "outputs": [
        {
          "output_type": "stream",
          "name": "stdout",
          "text": [
            "(2, 3)\n",
            "[[1 4]\n",
            " [2 5]\n",
            " [3 6]]\n",
            "(3, 2)\n",
            "[[1 4]\n",
            " [2 5]\n",
            " [3 6]]\n"
          ]
        }
      ]
    },
    {
      "cell_type": "code",
      "source": [
        "swap_axes=np.array([[1,2,3],[4,5,6]])\n",
        "print(swap_axes.swapaxes(0,1))\n",
        "print(swap_axes.swapaxes(1,0))\n",
        "sa=np.swapaxes(arr_2d,0,1)\n",
        "print(sa)"
      ],
      "metadata": {
        "colab": {
          "base_uri": "https://localhost:8080/"
        },
        "id": "EWcRiPlnWYDJ",
        "outputId": "b73afcd6-d574-4075-814c-2b053a780116"
      },
      "execution_count": null,
      "outputs": [
        {
          "output_type": "stream",
          "name": "stdout",
          "text": [
            "[[1 4]\n",
            " [2 5]\n",
            " [3 6]]\n",
            "[[1 4]\n",
            " [2 5]\n",
            " [3 6]]\n",
            "[[1 4]\n",
            " [2 5]\n",
            " [3 6]]\n"
          ]
        }
      ]
    },
    {
      "cell_type": "code",
      "source": [
        "arr_3d=np.array([[[1,2,3,4],\n",
        "                  [5,6,7,8],\n",
        "                  [9,10,11,12]],\n",
        "\n",
        "                  [[13,14,15,16],\n",
        "                  [17,18,19,20],\n",
        "                  [21,22,23,24]]])\n",
        "print(arr_3d.shape)\n",
        "sa=np.swapaxes(arr_3d,0,1)\n",
        "sa1=np.swapaxes(arr_3d,0,2)\n",
        "print(sa)\n",
        "print(sa1)\n",
        "print(sa.shape)\n",
        "print(sa1.shape)"
      ],
      "metadata": {
        "colab": {
          "base_uri": "https://localhost:8080/"
        },
        "id": "POGT8LjUXXL8",
        "outputId": "e20e746b-4f09-43ab-d0c7-dc6fdacb38cc"
      },
      "execution_count": null,
      "outputs": [
        {
          "output_type": "stream",
          "name": "stdout",
          "text": [
            "(2, 3, 4)\n",
            "[[[ 1  2  3  4]\n",
            "  [13 14 15 16]]\n",
            "\n",
            " [[ 5  6  7  8]\n",
            "  [17 18 19 20]]\n",
            "\n",
            " [[ 9 10 11 12]\n",
            "  [21 22 23 24]]]\n",
            "[[[ 1 13]\n",
            "  [ 5 17]\n",
            "  [ 9 21]]\n",
            "\n",
            " [[ 2 14]\n",
            "  [ 6 18]\n",
            "  [10 22]]\n",
            "\n",
            " [[ 3 15]\n",
            "  [ 7 19]\n",
            "  [11 23]]\n",
            "\n",
            " [[ 4 16]\n",
            "  [ 8 20]\n",
            "  [12 24]]]\n",
            "(3, 2, 4)\n",
            "(4, 3, 2)\n"
          ]
        }
      ]
    },
    {
      "cell_type": "markdown",
      "source": [
        "# **random number**\n"
      ],
      "metadata": {
        "id": "zK5fOxcQaFOy"
      }
    },
    {
      "cell_type": "code",
      "source": [
        "arr=np.random.randint(1,10,size=5)\n",
        "print(arr)"
      ],
      "metadata": {
        "colab": {
          "base_uri": "https://localhost:8080/"
        },
        "id": "usYdfYmvaekt",
        "outputId": "8ec39a7a-dc3b-4b0e-f106-3cda9b9e7d6b"
      },
      "execution_count": null,
      "outputs": [
        {
          "output_type": "stream",
          "name": "stdout",
          "text": [
            "[8 9 1 2 7]\n"
          ]
        }
      ]
    },
    {
      "cell_type": "code",
      "source": [
        "arr=np.random.rand(1,10)\n",
        "print(arr)"
      ],
      "metadata": {
        "id": "k-eHvGyrZU1i",
        "colab": {
          "base_uri": "https://localhost:8080/"
        },
        "outputId": "c308923b-73be-4849-9e46-8dd8c6fca568"
      },
      "execution_count": null,
      "outputs": [
        {
          "output_type": "stream",
          "name": "stdout",
          "text": [
            "[[0.01281426 0.29793552 0.46818251 0.08412715 0.46148116 0.64432531\n",
            "  0.60744702 0.15345952 0.20982215 0.02249539]]\n"
          ]
        }
      ]
    },
    {
      "cell_type": "code",
      "source": [
        "arr=np.random.normal(size=5)\n",
        "print(arr)"
      ],
      "metadata": {
        "colab": {
          "base_uri": "https://localhost:8080/"
        },
        "id": "S6pZMUhsaq3q",
        "outputId": "150e5340-8266-4152-bd22-f21f429602b4"
      },
      "execution_count": null,
      "outputs": [
        {
          "output_type": "stream",
          "name": "stdout",
          "text": [
            "[-0.35963921 -0.10793851  0.56238598 -0.44958906 -1.51329442]\n"
          ]
        }
      ]
    },
    {
      "cell_type": "markdown",
      "source": [
        "# **operations**"
      ],
      "metadata": {
        "id": "U0XT1B1Vc9Yv"
      }
    },
    {
      "cell_type": "code",
      "source": [
        "matrix_a=np.array([[1,2,3],\n",
        "                   [4,5,6],\n",
        "                   [7,8,9]])\n",
        "matrix_b=np.array([[9,8,7],\n",
        "                   [6,5,4],\n",
        "                   [3,2,1]])\n",
        "print(matrix_a+matrix_b)\n",
        "print(matrix_a-matrix_b)\n",
        "print(matrix_a*matrix_b)\n",
        "print(matrix_a/matrix_b)"
      ],
      "metadata": {
        "colab": {
          "base_uri": "https://localhost:8080/"
        },
        "id": "LKF41A8DdD95",
        "outputId": "cb416953-cc89-4f3b-c65a-fa7fe7759c59"
      },
      "execution_count": null,
      "outputs": [
        {
          "output_type": "stream",
          "name": "stdout",
          "text": [
            "[[10 10 10]\n",
            " [10 10 10]\n",
            " [10 10 10]]\n",
            "[[-8 -6 -4]\n",
            " [-2  0  2]\n",
            " [ 4  6  8]]\n",
            "[[ 9 16 21]\n",
            " [24 25 24]\n",
            " [21 16  9]]\n",
            "[[0.11111111 0.25       0.42857143]\n",
            " [0.66666667 1.         1.5       ]\n",
            " [2.33333333 4.         9.        ]]\n"
          ]
        }
      ]
    },
    {
      "cell_type": "code",
      "source": [
        "matrix_a=np.array([[1,2,3],\n",
        "                    [4,5,6]])\n",
        "martix_b=np.array([[7,8],\n",
        "                  [9,10],\n",
        "                  [11,12]])\n",
        "res=np.matmul(matrix_a,martix_b)\n",
        "print(res)"
      ],
      "metadata": {
        "colab": {
          "base_uri": "https://localhost:8080/"
        },
        "id": "3xRsUs4gdaHH",
        "outputId": "e4df598c-a77a-4b9b-c79e-a51782ea659d"
      },
      "execution_count": null,
      "outputs": [
        {
          "output_type": "stream",
          "name": "stdout",
          "text": [
            "[[ 58  64]\n",
            " [139 154]]\n"
          ]
        }
      ]
    },
    {
      "cell_type": "code",
      "source": [
        "matrix_a=np.array([[1,2],[3,4]])\n",
        "matrix_b=np.array([[6,7],[8,9]])\n",
        "res=np.matmul(matrix_a,matrix_b)\n",
        "print(res)"
      ],
      "metadata": {
        "colab": {
          "base_uri": "https://localhost:8080/"
        },
        "id": "0RPkO0wfeGj3",
        "outputId": "5ff4f462-e336-4609-aaf4-21df22858ff8"
      },
      "execution_count": null,
      "outputs": [
        {
          "output_type": "stream",
          "name": "stdout",
          "text": [
            "[[22 25]\n",
            " [50 57]]\n"
          ]
        }
      ]
    },
    {
      "cell_type": "markdown",
      "source": [
        "# reshape\n",
        "\n"
      ],
      "metadata": {
        "id": "2c4WqW1wfBSW"
      }
    },
    {
      "cell_type": "code",
      "source": [
        "arr=np.arange(1,10)\n",
        "print(arr)\n",
        "reshaped_arr=arr.reshape(3,3)\n",
        "print(reshaped_arr)"
      ],
      "metadata": {
        "colab": {
          "base_uri": "https://localhost:8080/"
        },
        "id": "RWaPz8HXe9J4",
        "outputId": "ff6e69be-bf4d-40dc-f6a7-d21668e067f9"
      },
      "execution_count": null,
      "outputs": [
        {
          "output_type": "stream",
          "name": "stdout",
          "text": [
            "[1 2 3 4 5 6 7 8 9]\n",
            "[[1 2 3]\n",
            " [4 5 6]\n",
            " [7 8 9]]\n"
          ]
        }
      ]
    },
    {
      "cell_type": "code",
      "source": [
        "arr=np.arange(1,11)\n",
        "print(arr)\n",
        "reshaped_arr=arr.reshape(2,5)\n",
        "print(reshaped_arr)"
      ],
      "metadata": {
        "colab": {
          "base_uri": "https://localhost:8080/"
        },
        "id": "zT7ALPFjfb0F",
        "outputId": "fb929b25-2226-4ebc-96b9-1b4b43f791d7"
      },
      "execution_count": null,
      "outputs": [
        {
          "output_type": "stream",
          "name": "stdout",
          "text": [
            "[ 1  2  3  4  5  6  7  8  9 10]\n",
            "[[ 1  2  3  4  5]\n",
            " [ 6  7  8  9 10]]\n"
          ]
        }
      ]
    },
    {
      "cell_type": "code",
      "source": [
        "var1=np.array([1,2,3,4,5,6])\n",
        "print(var1)\n",
        "print(var1.ndim)\n",
        "var2=var1.reshape(2,3)\n",
        "print()\n",
        "print(var2)\n",
        "print(var2.ndim)"
      ],
      "metadata": {
        "colab": {
          "base_uri": "https://localhost:8080/"
        },
        "id": "Z9EcghByf_9E",
        "outputId": "9d913649-e17c-40ff-d591-33ad9e63bb60"
      },
      "execution_count": null,
      "outputs": [
        {
          "output_type": "stream",
          "name": "stdout",
          "text": [
            "[1 2 3 4 5 6]\n",
            "1\n",
            "\n",
            "[[1 2 3]\n",
            " [4 5 6]]\n",
            "2\n"
          ]
        }
      ]
    },
    {
      "cell_type": "markdown",
      "source": [
        "# **matrix operations**"
      ],
      "metadata": {
        "id": "dl9dLJgzr6sj"
      }
    },
    {
      "cell_type": "code",
      "source": [
        "matrix=np.array([[1,2,3],\n",
        "                [4,5,6],\n",
        "                [7,8,9]])\n",
        "print(np.sum(matrix))\n",
        "print(np.sum(matrix,axis=0))\n",
        "print(np.sum(matrix,axis=1))"
      ],
      "metadata": {
        "id": "ZCAWlQ6Phv2y",
        "colab": {
          "base_uri": "https://localhost:8080/"
        },
        "outputId": "e2d76adf-836d-4b9e-aa1c-44686c2c510b"
      },
      "execution_count": 5,
      "outputs": [
        {
          "output_type": "stream",
          "name": "stdout",
          "text": [
            "45\n",
            "[12 15 18]\n",
            "[ 6 15 24]\n"
          ]
        }
      ]
    },
    {
      "cell_type": "code",
      "source": [
        "matrix=np.array([[1,2,3],\n",
        "                [4,5,6],\n",
        "                [7,8,9]])\n",
        "print(np.sum(matrix))\n",
        "print(np.max(matrix))\n",
        "print(np.min(matrix))\n",
        "print(np.mean(matrix))\n",
        "print(np.std(matrix))\n",
        "print(np.var(matrix))"
      ],
      "metadata": {
        "colab": {
          "base_uri": "https://localhost:8080/"
        },
        "id": "VbwpKnYWr3bO",
        "outputId": "b26618b7-9ae2-4619-9331-14b07baca751"
      },
      "execution_count": 7,
      "outputs": [
        {
          "output_type": "stream",
          "name": "stdout",
          "text": [
            "45\n",
            "9\n",
            "1\n",
            "5.0\n",
            "2.581988897471611\n",
            "6.666666666666667\n"
          ]
        }
      ]
    },
    {
      "cell_type": "markdown",
      "source": [
        "# **universal** **functions**"
      ],
      "metadata": {
        "id": "lg0CgHO7uIx_"
      }
    },
    {
      "cell_type": "code",
      "source": [],
      "metadata": {
        "id": "QGcPTiUyuQRN"
      },
      "execution_count": null,
      "outputs": []
    },
    {
      "cell_type": "code",
      "source": [
        "arr=np.array([1,2,3,4,5,6,7,8,9])\n",
        "res=np.add(arr,2)\n",
        "print(res)\n",
        "res1=np.multiply(arr,2)\n",
        "print(res1)"
      ],
      "metadata": {
        "colab": {
          "base_uri": "https://localhost:8080/"
        },
        "id": "UryfcsZRt1OY",
        "outputId": "3314dd86-9e8d-41f8-bf64-7035e7d7256b"
      },
      "execution_count": 9,
      "outputs": [
        {
          "output_type": "stream",
          "name": "stdout",
          "text": [
            "[ 3  4  5  6  7  8  9 10 11]\n",
            "[ 2  4  6  8 10 12 14 16 18]\n"
          ]
        }
      ]
    },
    {
      "cell_type": "markdown",
      "source": [
        "# trignometric **functions**"
      ],
      "metadata": {
        "id": "fX7I9kqhunA2"
      }
    },
    {
      "cell_type": "code",
      "source": [
        "arr=np.array([0,30,45,60,90])\n",
        "sin_arr=np.sin(arr)\n",
        "cos_arr=np.cos(arr)\n",
        "tan_arr=np.tan(arr)\n",
        "print(sin_arr)\n",
        "print(cos_arr)\n",
        "print(tan_arr)"
      ],
      "metadata": {
        "colab": {
          "base_uri": "https://localhost:8080/"
        },
        "id": "DWd3P5L8utDR",
        "outputId": "0fe23f19-c165-467b-897c-c4560cc82dd7"
      },
      "execution_count": 11,
      "outputs": [
        {
          "output_type": "stream",
          "name": "stdout",
          "text": [
            "[ 0.         -0.98803162  0.85090352 -0.30481062  0.89399666]\n",
            "[ 1.          0.15425145  0.52532199 -0.95241298 -0.44807362]\n",
            "[ 0.         -6.4053312   1.61977519  0.32004039 -1.99520041]\n"
          ]
        }
      ]
    },
    {
      "cell_type": "markdown",
      "source": [
        "**exponential** **functions**"
      ],
      "metadata": {
        "id": "JMqvWMMqwqla"
      }
    },
    {
      "cell_type": "code",
      "source": [
        "arr=np.array([1,2,3,4,5])\n",
        "res=np.exp(arr)\n",
        "print(res)\n",
        "res1=np.log(arr)\n",
        "print(res1)"
      ],
      "metadata": {
        "colab": {
          "base_uri": "https://localhost:8080/"
        },
        "id": "muW1j5ohwoFj",
        "outputId": "89eeb234-3871-474a-c534-c6503e2eeb3c"
      },
      "execution_count": 12,
      "outputs": [
        {
          "output_type": "stream",
          "name": "stdout",
          "text": [
            "[  2.71828183   7.3890561   20.08553692  54.59815003 148.4131591 ]\n",
            "[0.         0.69314718 1.09861229 1.38629436 1.60943791]\n"
          ]
        }
      ]
    },
    {
      "cell_type": "markdown",
      "source": [
        "# **statistical functions**"
      ],
      "metadata": {
        "id": "B681VACHx5Nz"
      }
    },
    {
      "cell_type": "code",
      "source": [
        "arr=np.array([1,2,3,4,5])\n",
        "print(np.mean(matrix))\n",
        "print(np.std(matrix))\n",
        "print(np.var(matrix))"
      ],
      "metadata": {
        "colab": {
          "base_uri": "https://localhost:8080/"
        },
        "id": "mvn_VejlxyXU",
        "outputId": "767117f8-050e-4fce-c747-b5618af667f7"
      },
      "execution_count": 13,
      "outputs": [
        {
          "output_type": "stream",
          "name": "stdout",
          "text": [
            "5.0\n",
            "2.581988897471611\n",
            "6.666666666666667\n"
          ]
        }
      ]
    },
    {
      "cell_type": "markdown",
      "source": [
        "comparision fuction"
      ],
      "metadata": {
        "id": "R9pIVki6yKJ4"
      }
    },
    {
      "cell_type": "code",
      "source": [
        "arr1=np.array([1,2,3,4])\n",
        "arr2=np.array([2,2,4,3])\n",
        "print(np.greater(arr1,arr2))\n",
        "print(np.greater_equal(arr1,arr2))\n",
        "print(np.less(arr1,arr2))\n",
        "print(np.less_equal(arr1,arr2))\n",
        "print(np.equal(arr1,arr2))\n",
        "print(np.not_equal(arr1,arr2))\n"
      ],
      "metadata": {
        "colab": {
          "base_uri": "https://localhost:8080/"
        },
        "id": "JiK_h-tlx-1D",
        "outputId": "856e7ad3-eda3-4173-959a-33cee7c06bca"
      },
      "execution_count": 16,
      "outputs": [
        {
          "output_type": "stream",
          "name": "stdout",
          "text": [
            "[False False False  True]\n",
            "[False  True False  True]\n",
            "[ True False  True False]\n",
            "[ True  True  True False]\n",
            "[False  True False False]\n",
            "[ True False  True  True]\n"
          ]
        }
      ]
    },
    {
      "cell_type": "markdown",
      "source": [
        "broadcasting\n"
      ],
      "metadata": {
        "id": "DcIaqIXkzw3C"
      }
    },
    {
      "cell_type": "code",
      "source": [
        "arr=np.array([1,2,3])\n",
        "res=arr+2\n",
        "print(res)\n",
        "b=2\n",
        "res1=arr*b\n",
        "print(res1)"
      ],
      "metadata": {
        "colab": {
          "base_uri": "https://localhost:8080/"
        },
        "id": "acM6szmuyNEy",
        "outputId": "9d27eb51-b1bc-4330-c51b-814fba63b961"
      },
      "execution_count": 19,
      "outputs": [
        {
          "output_type": "stream",
          "name": "stdout",
          "text": [
            "[3 4 5]\n",
            "[2 4 6]\n"
          ]
        }
      ]
    },
    {
      "cell_type": "markdown",
      "source": [
        "playing with arrays"
      ],
      "metadata": {
        "id": "01Ra5ty8zra1"
      }
    },
    {
      "cell_type": "code",
      "source": [
        "a=np.arange(12)\n",
        "print(a)\n",
        "reshaped_a=a.reshape(3,4)\n",
        "print(reshaped_a)"
      ],
      "metadata": {
        "colab": {
          "base_uri": "https://localhost:8080/"
        },
        "id": "7NrNTY960VsK",
        "outputId": "6df7878a-b1aa-4117-c694-a100dcb450e4"
      },
      "execution_count": 22,
      "outputs": [
        {
          "output_type": "stream",
          "name": "stdout",
          "text": [
            "[ 0  1  2  3  4  5  6  7  8  9 10 11]\n",
            "[[ 0  1  2  3]\n",
            " [ 4  5  6  7]\n",
            " [ 8  9 10 11]]\n"
          ]
        }
      ]
    },
    {
      "cell_type": "markdown",
      "source": [
        "resize"
      ],
      "metadata": {
        "id": "DIwtQ6W20zZs"
      }
    },
    {
      "cell_type": "code",
      "source": [
        "a=np.arange(10)\n",
        "print(a)\n",
        "a.resize(2,6)\n",
        "print(a)"
      ],
      "metadata": {
        "colab": {
          "base_uri": "https://localhost:8080/"
        },
        "id": "ExI9UEp30nOL",
        "outputId": "7029bb29-70d1-441a-b8fb-45c873e1d3b2"
      },
      "execution_count": 31,
      "outputs": [
        {
          "output_type": "stream",
          "name": "stdout",
          "text": [
            "[0 1 2 3 4 5 6 7 8 9]\n",
            "[[0 1 2 3 4 5]\n",
            " [6 7 8 9 0 0]]\n"
          ]
        }
      ]
    },
    {
      "cell_type": "markdown",
      "source": [
        "ravel"
      ],
      "metadata": {
        "id": "hgCXFl4v2C9d"
      }
    },
    {
      "cell_type": "code",
      "source": [
        "b=np.array([[1,2,3],[4,5,6]])\n",
        "print(b)\n",
        "b=b.ravel()\n",
        "print(b)\n",
        "#converts into 1d"
      ],
      "metadata": {
        "colab": {
          "base_uri": "https://localhost:8080/"
        },
        "id": "1WSsiffU00kM",
        "outputId": "c78cc625-14f1-4722-b16e-803160248aff"
      },
      "execution_count": 32,
      "outputs": [
        {
          "output_type": "stream",
          "name": "stdout",
          "text": [
            "[[1 2 3]\n",
            " [4 5 6]]\n",
            "[1 2 3 4 5 6]\n"
          ]
        }
      ]
    },
    {
      "cell_type": "markdown",
      "source": [
        "flatten"
      ],
      "metadata": {
        "id": "ivcGch9y2PcG"
      }
    },
    {
      "cell_type": "code",
      "source": [
        "b=np.array([[1,2,3],[4,5,6]])\n",
        "print(b)\n",
        "b=b.flatten()\n",
        "print(b)"
      ],
      "metadata": {
        "colab": {
          "base_uri": "https://localhost:8080/"
        },
        "id": "Air_6L0k2Dqd",
        "outputId": "3792e8a5-e9cc-40dc-fa54-600638d02301"
      },
      "execution_count": 33,
      "outputs": [
        {
          "output_type": "stream",
          "name": "stdout",
          "text": [
            "[[1 2 3]\n",
            " [4 5 6]]\n",
            "[1 2 3 4 5 6]\n"
          ]
        }
      ]
    },
    {
      "cell_type": "markdown",
      "source": [
        "difference between ravel and flatten\n"
      ],
      "metadata": {
        "id": "xEz6VQut2qiS"
      }
    },
    {
      "cell_type": "code",
      "source": [
        "a=np.array([[1,2,3],[4,5,6]])\n",
        "b=a.ravel()#original array is modified\n",
        "b[0]=100\n",
        "c=b.flatten()#original array is not modified\n",
        "c[1]=200\n",
        "print(a)"
      ],
      "metadata": {
        "colab": {
          "base_uri": "https://localhost:8080/"
        },
        "id": "5m8bhfoI2pw4",
        "outputId": "4d83da05-2a32-459a-e9c6-8cc796cf9b0b"
      },
      "execution_count": 4,
      "outputs": [
        {
          "output_type": "stream",
          "name": "stdout",
          "text": [
            "[[100   2   3]\n",
            " [  4   5   6]]\n"
          ]
        }
      ]
    },
    {
      "cell_type": "markdown",
      "source": [
        "squeeze"
      ],
      "metadata": {
        "id": "19Aq6Bq5_ccs"
      }
    },
    {
      "cell_type": "code",
      "source": [
        "arr=np.array([[[[1,2,3]]]])##squeeze the brackets\n",
        "print(arr)\n",
        "print(arr.shape)\n",
        "squeezed=np.squeeze(arr)\n",
        "print(squeezed)\n",
        "print(squeezed.shape)"
      ],
      "metadata": {
        "colab": {
          "base_uri": "https://localhost:8080/"
        },
        "id": "5xhb_XqB2uTi",
        "outputId": "35c717dd-a47d-43c9-a132-f1eaca82b24b"
      },
      "execution_count": 4,
      "outputs": [
        {
          "output_type": "stream",
          "name": "stdout",
          "text": [
            "[[[[1 2 3]]]]\n",
            "(1, 1, 1, 3)\n",
            "[1 2 3]\n",
            "(3,)\n"
          ]
        }
      ]
    },
    {
      "cell_type": "markdown",
      "source": [
        "expand dim"
      ],
      "metadata": {
        "id": "KP7CMl_y_--j"
      }
    },
    {
      "cell_type": "code",
      "source": [],
      "metadata": {
        "id": "kSi_I1Y6VbMA"
      },
      "execution_count": null,
      "outputs": []
    },
    {
      "cell_type": "code",
      "source": [
        "expanded=np.expand_dims(squeezed,axis=1)\n",
        "print(expanded)\n",
        "print(expanded.shape)"
      ],
      "metadata": {
        "colab": {
          "base_uri": "https://localhost:8080/"
        },
        "id": "Kp5V5-aJ_wpg",
        "outputId": "3f0ad150-0bda-404b-dfa3-af6ae191a334"
      },
      "execution_count": 5,
      "outputs": [
        {
          "output_type": "stream",
          "name": "stdout",
          "text": [
            "[[1]\n",
            " [2]\n",
            " [3]]\n",
            "(3, 1)\n"
          ]
        }
      ]
    },
    {
      "cell_type": "markdown",
      "source": [
        "split"
      ],
      "metadata": {
        "id": "2y75-zw3XuMm"
      }
    },
    {
      "cell_type": "code",
      "source": [
        "arr=np.arange(9)\n",
        "print(arr)\n",
        "splitted=np.split(arr,3)\n",
        "print(splitted)##equsl length"
      ],
      "metadata": {
        "colab": {
          "base_uri": "https://localhost:8080/"
        },
        "id": "Pb3OUgC4AABE",
        "outputId": "f5428455-a928-42f9-8729-4de2e2aaf81f"
      },
      "execution_count": 6,
      "outputs": [
        {
          "output_type": "stream",
          "name": "stdout",
          "text": [
            "[0 1 2 3 4 5 6 7 8]\n",
            "[array([0, 1, 2]), array([3, 4, 5]), array([6, 7, 8])]\n"
          ]
        }
      ]
    },
    {
      "cell_type": "markdown",
      "source": [
        "array split"
      ],
      "metadata": {
        "id": "tqJKazwvX4ia"
      }
    },
    {
      "cell_type": "code",
      "source": [
        "arr=np.arange(9)\n",
        "print(arr)\n",
        "splitted=np.array_split(arr,4)\n",
        "print(splitted)#uneual length"
      ],
      "metadata": {
        "colab": {
          "base_uri": "https://localhost:8080/"
        },
        "id": "8-I7T6ZlX5gl",
        "outputId": "98807ba0-ea79-449c-9d3f-1a3c95bb2ded"
      },
      "execution_count": 7,
      "outputs": [
        {
          "output_type": "stream",
          "name": "stdout",
          "text": [
            "[0 1 2 3 4 5 6 7 8]\n",
            "[array([0, 1, 2]), array([3, 4]), array([5, 6]), array([7, 8])]\n"
          ]
        }
      ]
    },
    {
      "cell_type": "markdown",
      "source": [
        "hsplit and vsplit"
      ],
      "metadata": {
        "id": "PvMHwH5NaBlv"
      }
    },
    {
      "cell_type": "code",
      "source": [
        "arr=np.array([[1,2,3],[4,5,6]])\n",
        "hsplit=np.hsplit(arr,3)\n",
        "vsplit=np.vsplit(arr,2)\n",
        "print(hsplit)\n",
        "print(vsplit)"
      ],
      "metadata": {
        "colab": {
          "base_uri": "https://localhost:8080/"
        },
        "id": "hfJ4AbHNZ_oR",
        "outputId": "2487e861-60e4-4a2d-c677-47d2dab7c4b0"
      },
      "execution_count": 10,
      "outputs": [
        {
          "output_type": "stream",
          "name": "stdout",
          "text": [
            "[array([[1],\n",
            "       [4]]), array([[2],\n",
            "       [5]]), array([[3],\n",
            "       [6]])]\n",
            "[array([[1, 2, 3]]), array([[4, 5, 6]])]\n"
          ]
        }
      ]
    },
    {
      "cell_type": "markdown",
      "source": [
        "concatinate"
      ],
      "metadata": {
        "id": "UVvL874MafEX"
      }
    },
    {
      "cell_type": "code",
      "source": [
        "a=np.array([1,2,3])\n",
        "b=np.array([4,5,6])\n",
        "concatinated=np.concatenate((a,b))\n",
        "print(concatinated)"
      ],
      "metadata": {
        "colab": {
          "base_uri": "https://localhost:8080/"
        },
        "id": "EoGtKz6aaeVD",
        "outputId": "625865cc-8533-4ac9-d055-3404cae61f01"
      },
      "execution_count": 14,
      "outputs": [
        {
          "output_type": "stream",
          "name": "stdout",
          "text": [
            "[1 2 3 4 5 6]\n"
          ]
        }
      ]
    },
    {
      "cell_type": "code",
      "source": [
        "horizontalstack=np.hstack((a,b))\n",
        "print(horizontalstack)\n",
        "verticalstack=np.vstack((a,b))\n",
        "print(verticalstack)"
      ],
      "metadata": {
        "colab": {
          "base_uri": "https://localhost:8080/"
        },
        "id": "bmVKEJ_dbfib",
        "outputId": "76b30f35-3d70-4ca9-f822-74c5babf45ea"
      },
      "execution_count": 16,
      "outputs": [
        {
          "output_type": "stream",
          "name": "stdout",
          "text": [
            "[1 2 3 4 5 6]\n",
            "[[1 2 3]\n",
            " [4 5 6]]\n"
          ]
        }
      ]
    },
    {
      "cell_type": "markdown",
      "source": [
        "adding and removing"
      ],
      "metadata": {
        "id": "C34RoBHfbuWB"
      }
    },
    {
      "cell_type": "code",
      "source": [
        "arr=np.array([1,2,3,4,5])\n",
        "print(arr)\n",
        "arr=np.append(arr,6)\n",
        "print(arr)\n",
        "print(arr)\n",
        "arr=np.delete(arr,0)\n",
        "print(arr)"
      ],
      "metadata": {
        "colab": {
          "base_uri": "https://localhost:8080/"
        },
        "id": "VGsxxcJGbnbo",
        "outputId": "a8917a22-43ba-495a-f669-460e37f12987"
      },
      "execution_count": 20,
      "outputs": [
        {
          "output_type": "stream",
          "name": "stdout",
          "text": [
            "[1 2 3 4 5]\n",
            "[1 2 3 4 5 6]\n",
            "[1 2 3 4 5 6]\n",
            "[2 3 4 5 6]\n"
          ]
        }
      ]
    },
    {
      "cell_type": "code",
      "source": [
        "arr=np.insert(arr,2,7)\n",
        "print(arr)"
      ],
      "metadata": {
        "colab": {
          "base_uri": "https://localhost:8080/"
        },
        "id": "TbrXufgLbvcm",
        "outputId": "68da2279-29c7-4fff-d4ed-96a54a6125c6"
      },
      "execution_count": 22,
      "outputs": [
        {
          "output_type": "stream",
          "name": "stdout",
          "text": [
            "[2 3 7 7 4 5 6]\n"
          ]
        }
      ]
    },
    {
      "cell_type": "code",
      "source": [
        "arr1=np.array([[1,2,3],[4,5,6]])\n",
        "print(arr)\n",
        "arr=np.append(arr1,[[7,8,9]])\n",
        "print(arr)"
      ],
      "metadata": {
        "colab": {
          "base_uri": "https://localhost:8080/"
        },
        "id": "PYgOX3DyipGX",
        "outputId": "14475220-4ae3-4804-a12d-d768783f99fd"
      },
      "execution_count": 25,
      "outputs": [
        {
          "output_type": "stream",
          "name": "stdout",
          "text": [
            "[1 2 3 4 5 6 7 8 9]\n",
            "[1 2 3 4 5 6 7 8 9]\n"
          ]
        }
      ]
    },
    {
      "cell_type": "code",
      "source": [
        "arr1=np.array([[1,2,3],[4,5,6]])\n",
        "print(arr1)\n",
        "arr=np.append(arr1,[[7,8,9]],axis=0)\n",
        "print(arr)"
      ],
      "metadata": {
        "colab": {
          "base_uri": "https://localhost:8080/"
        },
        "id": "uat_MUTejJ7F",
        "outputId": "0591f26d-135e-429b-99c1-7b8fb7501472"
      },
      "execution_count": 30,
      "outputs": [
        {
          "output_type": "stream",
          "name": "stdout",
          "text": [
            "[[1 2 3]\n",
            " [4 5 6]]\n",
            "[[1 2 3]\n",
            " [4 5 6]\n",
            " [7 8 9]]\n"
          ]
        }
      ]
    },
    {
      "cell_type": "code",
      "source": [
        "arr=np.array([1,2,3])\n",
        "arr1=np.insert(arr,1,[4,5])\n",
        "print(arr1)"
      ],
      "metadata": {
        "colab": {
          "base_uri": "https://localhost:8080/"
        },
        "id": "lILGwQhCjO6M",
        "outputId": "e135274b-4bc6-4cf2-f3cc-06be8f73d5e5"
      },
      "execution_count": 33,
      "outputs": [
        {
          "output_type": "stream",
          "name": "stdout",
          "text": [
            "[1 4 5 2 3]\n"
          ]
        }
      ]
    },
    {
      "cell_type": "code",
      "source": [
        "arr2=np.array([[1,2,3],[4,5,6]])\n",
        "arr1=np.delete(arr,2)\n",
        "print(arr1)"
      ],
      "metadata": {
        "colab": {
          "base_uri": "https://localhost:8080/"
        },
        "id": "cQHD64hcjs_S",
        "outputId": "a1c6d867-e9af-41da-936f-dc3c0305d143"
      },
      "execution_count": 36,
      "outputs": [
        {
          "output_type": "stream",
          "name": "stdout",
          "text": [
            "[1 2 4 5 6]\n"
          ]
        }
      ]
    },
    {
      "cell_type": "code",
      "source": [
        "arr2=np.array([[1,2,3]])\n",
        "arr1=np.delete(arr2,[1,2])\n",
        "print(arr1)"
      ],
      "metadata": {
        "colab": {
          "base_uri": "https://localhost:8080/"
        },
        "id": "P6xoyRpAj9UI",
        "outputId": "ebbf3a6c-56ea-4d66-b589-7dfd11364312"
      },
      "execution_count": 40,
      "outputs": [
        {
          "output_type": "stream",
          "name": "stdout",
          "text": [
            "[1]\n"
          ]
        }
      ]
    },
    {
      "cell_type": "code",
      "source": [
        "b=np.array([[1,2,3],[4,5,6]])\n",
        "c=np.delete(b,1,axis=0)\n",
        "print(c)"
      ],
      "metadata": {
        "colab": {
          "base_uri": "https://localhost:8080/"
        },
        "id": "llOTPJrbkYXO",
        "outputId": "faeccda3-d5fd-4daa-dc31-b16bc0a21ed3"
      },
      "execution_count": 44,
      "outputs": [
        {
          "output_type": "stream",
          "name": "stdout",
          "text": [
            "[[1 2 3]]\n"
          ]
        }
      ]
    },
    {
      "cell_type": "code",
      "source": [
        "b=np.array([[1,2,3],[4,5,6]])\n",
        "c=np.delete(b,1,axis=1)\n",
        "print(c)"
      ],
      "metadata": {
        "colab": {
          "base_uri": "https://localhost:8080/"
        },
        "id": "4mhpI8Sskses",
        "outputId": "3dc97038-0d77-4a0d-9ec5-31e43a41de0c"
      },
      "execution_count": 45,
      "outputs": [
        {
          "output_type": "stream",
          "name": "stdout",
          "text": [
            "[[1 3]\n",
            " [4 6]]\n"
          ]
        }
      ]
    }
  ]
}